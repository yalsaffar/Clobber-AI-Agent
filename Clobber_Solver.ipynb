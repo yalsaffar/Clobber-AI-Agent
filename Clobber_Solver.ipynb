{
 "cells": [
  {
   "cell_type": "markdown",
   "id": "ec2d51ca",
   "metadata": {},
   "source": [
    "# Clobber"
   ]
  },
  {
   "cell_type": "markdown",
   "id": "c7df46fe",
   "metadata": {},
   "source": [
    "##### This Notebook was submitted as an assignment for a course"
   ]
  },
  {
   "cell_type": "markdown",
   "id": "01f0b3e5",
   "metadata": {},
   "source": [
    "## Helper functions"
   ]
  },
  {
   "cell_type": "code",
   "execution_count": 49,
   "id": "6544c558",
   "metadata": {},
   "outputs": [],
   "source": [
    "\n",
    "#checks if game is over\n",
    "def game_is_over(state):\n",
    "    #print(state)\n",
    "    for x, y in get_all_cells(state,'O'):  # it doesn't matter what color to use,\n",
    "        if not cell_is_dead(state,x, y):        # if there is a move for white there will for black as well\n",
    "            return False\n",
    "\n",
    "    return True\n",
    "    \n",
    "#returns all cells\n",
    "def get_all_cells(state,player):\n",
    "    for y in range(6):\n",
    "        for x in range(5):\n",
    "            #print(state[y][x])\n",
    "            if state[y][x] == player:\n",
    "                \n",
    "                yield x, y\n",
    "\n",
    "#checks if cell is dead or not\n",
    "def cell_is_dead(state,x, y):\n",
    "        return len(get_valid_moves(state,x, y)) == 0\n",
    "\n",
    "#get all connected valid moves\n",
    "def get_valid_moves(state,x, y) -> list:\n",
    "        checker_type = state[y][x]\n",
    "        target_type = 'X' if checker_type == 'O' else 'O'\n",
    "\n",
    "        moves = []\n",
    "\n",
    "        if x > 0 and state[y][x - 1] == target_type:\n",
    "            moves.append((x - 1, y))\n",
    "        if y > 0 and state[y - 1][x] == target_type:\n",
    "            moves.append((x, y - 1))\n",
    "        if y < len(state) - 1 and state[y + 1][x] == target_type:\n",
    "            moves.append((x, y + 1))\n",
    "        if x < len(state[0]) - 1 and state[y][x + 1] == target_type:\n",
    "            moves.append((x + 1, y))\n",
    "        \n",
    "        return moves\n",
    "    "
   ]
  },
  {
   "cell_type": "code",
   "execution_count": 50,
   "id": "e717c233",
   "metadata": {},
   "outputs": [],
   "source": [
    "#other player\n",
    "def other_player(player):\n",
    "    if player == 'O': return 'X'\n",
    "    if player == 'X': return 'O'"
   ]
  },
  {
   "cell_type": "markdown",
   "id": "db136f0c",
   "metadata": {},
   "source": [
    "## Evaluation Functions"
   ]
  },
  {
   "cell_type": "markdown",
   "id": "2cc47494",
   "metadata": {},
   "source": [
    "#### These functions are to somehow sort the possible actions to make more accurate decsions(I believe). Some of them are based on logic and others are on extensive trial and error(feel free to change, modify, ore remove them)."
   ]
  },
  {
   "cell_type": "code",
   "execution_count": 51,
   "id": "e0d3048a",
   "metadata": {},
   "outputs": [],
   "source": [
    "#ultility function for evaluate 4// checks if next cell the same and has more branches\n",
    "def ult(state,x,y):\n",
    "    hecker_type = state[y][x]\n",
    "    #target_type = 'X' if checker_type == 'O' else 'O'\n",
    "\n",
    "    moves = []\n",
    "\n",
    "    if x > 1 and state[y][x - 1] == hecker_type and len(get_valid_moves(state,x-1, y)) > 1  :\n",
    "        moves.append((x - 1, y))\n",
    "    if y > 1 and state[y - 1][x] == hecker_type and len(get_valid_moves(state,x, y-1)) > 1 :\n",
    "        moves.append((x, y - 1))\n",
    "    if y < len(state) - 1 and state[y + 1][x] == hecker_type and len(get_valid_moves(state,x, y+1)) > 1 :\n",
    "        moves.append((x, y + 1))\n",
    "    if x < len(state[0]) - 1 and state[y][x + 1] == hecker_type and len(get_valid_moves(state,x+1, y)) > 1 :\n",
    "        moves.append((x + 1, y))\n",
    "\n",
    "    return moves\n",
    "def check4(state,x, y): #checker for evaluate 4\n",
    "        return len(ult(state,x, y)) == 0\n",
    "    \n",
    "def evaluate_board4(board): #checks the rules and return a value\n",
    "        O, X = 0, 0\n",
    "\n",
    "        for y in range(len(board)):\n",
    "            for x in range(len(board[0])):\n",
    "                if board[y][x] == 'X' and check4(board,x, y):\n",
    "                    X += 1\n",
    "                if board[y][x] == 'O' and check4(board,x, y):\n",
    "                    O += 1\n",
    "\n",
    "        return X - O"
   ]
  },
  {
   "cell_type": "code",
   "execution_count": 52,
   "id": "f0aae5dc",
   "metadata": {},
   "outputs": [],
   "source": [
    "def ult3(state,x,y): #utility function for evaluate board 3 // checks suicide state\n",
    "    checker_type = state[y][x]\n",
    "    target_type = 'X' if checker_type == 'O' else 'O'\n",
    "\n",
    "    moves = []\n",
    "\n",
    "    if x > 1 and state[y][x - 1] == target_type and len(get_valid_moves(state,x-1, y)) == 0  :\n",
    "        moves.append((x - 1, y))\n",
    "    if y > 1 and state[y - 1][x] == target_type and len(get_valid_moves(state,x, y-1)) == 0 :\n",
    "        moves.append((x, y - 1))\n",
    "    if y < len(state) - 1 and state[y + 1][x] == target_type and len(get_valid_moves(state,x, y+1)) == 0 :\n",
    "        moves.append((x, y + 1))\n",
    "    if x < len(state[0]) - 1 and state[y][x + 1] == target_type and len(get_valid_moves(state,x+1, y)) == 0 :\n",
    "        moves.append((x + 1, y))\n",
    "\n",
    "    return moves\n",
    "def check3(state,x, y): #checker for evaluate 3\n",
    "        return len(ult3(state,x, y)) == 0\n",
    "    \n",
    "def evaluate_board3(board):\n",
    "        O, X = 0, 0\n",
    "\n",
    "        for y in range(len(board)):\n",
    "            for x in range(len(board[0])):\n",
    "                if board[y][x] == 'X' and check3(board,x, y):\n",
    "                    X += 1\n",
    "                if board[y][x] == 'O' and check3(board,x, y):\n",
    "                    O += 1\n",
    "\n",
    "        return X - O"
   ]
  },
  {
   "cell_type": "code",
   "execution_count": 53,
   "id": "1c80bc73",
   "metadata": {},
   "outputs": [],
   "source": [
    "def evaluate_board5(move): #pushes O up mostly and X down\n",
    "        pos1, pos2 = move\n",
    "\n",
    "        if 0 <= pos1 < 3 or -3 < pos1 < 0 or 0 <= pos2 < 3 or -3 < pos1 < 0:\n",
    "            return 10\n",
    "        \n",
    "        if 3 <= pos1 < 6 or 3 < pos2 < 6:\n",
    "            return -5\n",
    "        \n"
   ]
  },
  {
   "cell_type": "code",
   "execution_count": 54,
   "id": "08d70a80",
   "metadata": {},
   "outputs": [],
   "source": [
    "def ev_inside(move,player): #pushs O to outerside and X inside\n",
    "    pos1, pos2 = move\n",
    "\n",
    "    if pos1 < 4:\n",
    "        if player == 'O':\n",
    "            return -15\n",
    "    elif pos1 > 5:\n",
    "        if player == 'X':\n",
    "            return 15\n",
    "    return 0"
   ]
  },
  {
   "cell_type": "code",
   "execution_count": 55,
   "id": "2fc1546d",
   "metadata": {},
   "outputs": [],
   "source": [
    "def evaluate_board(board): #The main evaluate function\n",
    "        O, X = 0, 0\n",
    "\n",
    "        for y in range(len(board)):\n",
    "            for x in range(len(board[0])):\n",
    "                if board[y][x] == 'X' and cell_is_dead(board,x, y):\n",
    "                    O += 1\n",
    "                if board[y][x] == 'O' and cell_is_dead(board,x, y):\n",
    "                    X += 1\n",
    "\n",
    "        return X-O"
   ]
  },
  {
   "cell_type": "code",
   "execution_count": 56,
   "id": "368e7e62",
   "metadata": {},
   "outputs": [],
   "source": [
    "\n",
    "def hu(player,state,move): #general function to add everything of evaluations\n",
    "    ev1 = evaluate_board(state)\n",
    "    \n",
    "    counter = 0\n",
    "    for y in range(len(board)):\n",
    "        for x in range(len(board[0])):\n",
    "            if board[y][x] == \".\":\n",
    "                counter += 1\n",
    "    ev3 = 0\n",
    "    #ev2 = 0\n",
    "    evF = ev_inside(move,player)\n",
    "    ev4 = evaluate_board4(state)\n",
    "    ev5 = evaluate_board5(move)\n",
    "    if counter >= 12:\n",
    "        ev3 = evaluate_board3(state)\n",
    "    \n",
    "    if player == 'O':\n",
    "        return (ev1)+(ev3)+ev4-(ev5*2)+evF #Can be changed\n",
    "    elif player == 'X':\n",
    "        return (ev1)+(ev3)+ev4+evF #Can be changed"
   ]
  },
  {
   "cell_type": "markdown",
   "id": "83ec30d4",
   "metadata": {},
   "source": [
    "## Main Possible Actions"
   ]
  },
  {
   "cell_type": "code",
   "execution_count": 57,
   "id": "51d2e64d",
   "metadata": {},
   "outputs": [],
   "source": [
    " def possible_actions(player, state): #returns all possible actions of the board\n",
    "        actions = []\n",
    "\n",
    "        for cell in get_all_cells(state,player): #all cells\n",
    "            #print(cell)\n",
    "\n",
    "            valid_moves = get_valid_moves(state, *cell)#valid moves\n",
    "            #print(valid_moves)\n",
    "\n",
    "            for move in valid_moves: #update a temp board and append it\n",
    "                #print('--------------------')\n",
    "                #print(move)\n",
    "                temp_board = deepcopy(state)\n",
    "                x_chosen, y_chosen = cell\n",
    "                x_final, y_final = move\n",
    "                checker_type = temp_board[y_chosen][x_chosen]\n",
    "                temp_board[y_chosen][x_chosen] = '.'\n",
    "                temp_board[y_final][x_final] = checker_type\n",
    "                                \n",
    "                \n",
    "                actions.append((move,temp_board,cell,hu(player,temp_board,cell)))\n",
    "        #print(actions)\n",
    "        \n",
    "        #sort based on the evluations\n",
    "        if player == \"O\":\n",
    "            actions.sort(key=lambda a: a[3],reverse=False)\n",
    "        elif player == \"X\":\n",
    "            actions.sort(key=lambda a: a[3],reverse=True)\n",
    "\n",
    "        return actions\n",
    "    \n",
    "\n",
    "        \n",
    "\n",
    "        "
   ]
  },
  {
   "cell_type": "markdown",
   "id": "835e4e2f",
   "metadata": {},
   "source": [
    "## Main Negated Scout Algorithm "
   ]
  },
  {
   "cell_type": "code",
   "execution_count": 58,
   "id": "dea0b531",
   "metadata": {},
   "outputs": [],
   "source": [
    "def Main_Search(state,depth: int, player,i_alpha, i_beta): #main NEGASCOUT  Caller FUNCTION\n",
    "    value, move = Negated_Scout_search(state,depth, player,i_alpha, i_beta)\n",
    "    return value, move\n",
    "\n",
    "def Negated_Scout_search(state,depth: int, player,i_alpha, i_beta):# negascout function\n",
    "    #print(depth)\n",
    "    if depth == 0 or game_is_over(state):\n",
    "        return -evaluate_board(state),0\n",
    "   \n",
    "    max_eval = float('-inf') #important for scout\n",
    "    move = None\n",
    "    cell=None\n",
    "    b = i_beta #important for scout\n",
    "\n",
    "\n",
    "    for idy, a in enumerate(possible_actions(player, state)): #CALL POSSIBLE ACTIONS OF BOARD\n",
    "        v2, a2 = Negated_Scout_search(a[1],depth-1, other_player(player), -b, -i_alpha) #CALL ITSELF ITERATIVLY\n",
    "        \n",
    "        if i_alpha < v2 < i_beta and idy > 0: #CONDITION FOR NEGASCOUT\n",
    "                v2 = Negated_Scout_search(a[1], depth - 1, other_player(player), -i_beta, -i_alpha)[0]\n",
    "       \n",
    "    \n",
    "        \n",
    "        \n",
    "            \n",
    "       \n",
    "            \n",
    "        if v2 > max_eval: #RETURN THE BEST\n",
    "            max_eval, move, cell = v2, a[0], a[2]\n",
    "\n",
    "        i_alpha = max(v2, i_alpha) #GET THE BEST OF V2 AND ALPHA\n",
    "        if i_beta <= i_alpha:\n",
    "            break\n",
    "    b = i_alpha + 1 #IMPORTANT FOR NEGASCOUT\n",
    "    final = formaty(cell,move) #FORMAT\n",
    "                                  \n",
    "    return -max_eval, final\n",
    "\n",
    "\n",
    "#-------------------------\n"
   ]
  },
  {
   "cell_type": "code",
   "execution_count": null,
   "id": "e34a5d5c",
   "metadata": {},
   "outputs": [],
   "source": []
  },
  {
   "cell_type": "markdown",
   "id": "e7e7fb7a",
   "metadata": {},
   "source": [
    "## Formator "
   ]
  },
  {
   "cell_type": "code",
   "execution_count": 59,
   "id": "b86766fa",
   "metadata": {},
   "outputs": [],
   "source": [
    "def formaty(pos1, pos2): #FORMAT FUNCTION\n",
    "        x_chosen, y_chosen = pos1\n",
    "        x_final, y_final = pos2\n",
    "        \n",
    "        if pos2[0] > pos1[0]:\n",
    "            return pos1 , 'R'\n",
    "        elif pos2[0] < pos1[0]:\n",
    "            return pos1 , 'L'\n",
    "        else:\n",
    "            if pos2[1] > pos1[1]:\n",
    "                return pos1 , 'D'\n",
    "            else:\n",
    "                return pos1 , 'U'"
   ]
  },
  {
   "cell_type": "code",
   "execution_count": 62,
   "id": "86b50eeb",
   "metadata": {},
   "outputs": [],
   "source": [
    "#example\n",
    "board=[['X', 'O', 'X', 'O', 'X'],\n",
    "['O', 'X', 'O', 'X', 'O'],\n",
    "['X', 'O', 'X', 'O', 'X'],\n",
    "['O', 'X', 'O', 'X', 'O'],\n",
    "['X', 'O', 'X', 'O', 'X'],\n",
    "['O', 'X', 'O', 'X', 'O']]"
   ]
  },
  {
   "cell_type": "code",
   "execution_count": 63,
   "id": "cc18bc32",
   "metadata": {},
   "outputs": [
    {
     "data": {
      "text/plain": [
       "((0, 1), 'R')"
      ]
     },
     "execution_count": 63,
     "metadata": {},
     "output_type": "execute_result"
    }
   ],
   "source": [
    "Main_Search(board,3, 'O', float('-inf'), float('inf'))[1]"
   ]
  },
  {
   "cell_type": "code",
   "execution_count": null,
   "id": "622493a5",
   "metadata": {},
   "outputs": [],
   "source": []
  },
  {
   "cell_type": "code",
   "execution_count": null,
   "id": "792dcd3b",
   "metadata": {},
   "outputs": [],
   "source": []
  }
 ],
 "metadata": {
  "kernelspec": {
   "display_name": "Python 3 (ipykernel)",
   "language": "python",
   "name": "python3"
  },
  "language_info": {
   "codemirror_mode": {
    "name": "ipython",
    "version": 3
   },
   "file_extension": ".py",
   "mimetype": "text/x-python",
   "name": "python",
   "nbconvert_exporter": "python",
   "pygments_lexer": "ipython3",
   "version": "3.10.6"
  }
 },
 "nbformat": 4,
 "nbformat_minor": 5
}
